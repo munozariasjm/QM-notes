{
 "cells": [
  {
   "attachments": {},
   "cell_type": "markdown",
   "metadata": {},
   "source": [
    "### Spectral Decomposition"
   ]
  },
  {
   "attachments": {},
   "cell_type": "markdown",
   "metadata": {},
   "source": [
    "Spectral decomposition is a powerful mathematical tool used in quantum mechanics to analyze linear operators, particularly Hermitian operators, which have important physical interpretations.\n",
    "In this context, spectral decomposition can help us understand the behavior of quantum systems and extract information about observables and their eigenstates.\n",
    "\n",
    "A linear operator A is said to be Hermitian if it satisfies the following condition:\n",
    "\n",
    "$$\\braket{\\psi A|\\phi} = \\braket{\\psi|A|\\phi}$$\n",
    "\n",
    "where $\\braket{.|.}$ denotes the inner product, and * denotes complex conjugation.\n",
    "\n",
    "Hermitian operators play a vital role in quantum mechanics because their eigenvalues are always real, and their eigenvectors form a complete, orthogonal basis for the Hilbert space. This property allows us to decompose any state vector in terms of the eigenvectors of a given Hermitian operator.\n",
    "\n",
    "The spectral decomposition theorem states that a Hermitian operator A can be expressed as:\n",
    "\n",
    "$$ A = \\sum_i \\lambda_i \\ket{\\psi_i}\\bra{\\psi_i} $$\n",
    "\n",
    "where λ_i are the eigenvalues of A, and |ψ_i⟩ are the corresponding eigenvectors, which form an orthonormal basis for the Hilbert space. This decomposition allows us to represent A as a weighted sum of projection operators |ψ_i⟩⟨ψ_i|, with the weights given by the eigenvalues λ_i.\n",
    "\n",
    "An important application of spectral decomposition in quantum mechanics is the analysis of observables, which are represented by Hermitian operators. When a quantum system is in a state |ψ⟩, the expectation value of an observable A is given by:\n",
    "\n",
    "$$\\braket{A} = \\braket{\\psi|A|\\psi} = \\sum_i \\lambda_i \\braket{\\psi_i|\\psi}^2$$\n",
    "\n",
    "The spectral decomposition allows us to express the expectation value as a weighted sum of eigenvalues, where the weights are determined by the overlap of the state |ψ⟩ with the eigenvectors of A.\n",
    "\n",
    "As an example, consider a quantum system described by the Hamiltonian operator H. The spectral decomposition of H provides us with the energy eigenvalues (E_i) and the corresponding energy eigenstates (|ψ_i⟩). The time evolution of the system is governed by the Schrödinger equation, which can be solved more easily by expressing the state vector in terms of the energy eigenstates:\n",
    "\n",
    "$$\\ket{\\psi(t)} = \\sum_i c_i e^{-iE_it/\\hbar} \\ket{\\psi_i}$$\n",
    "\n",
    "where $c_i = \\braket{\\psi_i|\\psi(0)}$ are the expansion coefficients.\n",
    "\n",
    "In summary, spectral decomposition is a powerful tool for understanding the properties and behavior of quantum systems. It allows us to decompose Hermitian operators, such as observables, into their eigenvalues and eigenvectors, providing insight into the underlying structure and dynamics of quantum systems."
   ]
  },
  {
   "cell_type": "markdown",
   "metadata": {},
   "source": []
  }
 ],
 "metadata": {
  "language_info": {
   "name": "python"
  },
  "orig_nbformat": 4
 },
 "nbformat": 4,
 "nbformat_minor": 2
}
