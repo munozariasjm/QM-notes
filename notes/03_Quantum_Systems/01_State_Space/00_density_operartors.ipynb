{
 "cells": [
  {
   "attachments": {},
   "cell_type": "markdown",
   "metadata": {},
   "source": [
    "# Density Operators"
   ]
  },
  {
   "attachments": {},
   "cell_type": "markdown",
   "metadata": {},
   "source": [
    "In many cases, we deal with mixed quantum states, which are statistical mixtures of pure quantum states. Mixed states can be represented using density operators, which are Hermitian, positive-semidefinite operators with trace equal to one. For a mixed state consisting of pure states {$\\ket{\\Psi_i}$} with probabilities {$p_i$}, the density operator $\\rho$ is given by:\n",
    "\n",
    "$$\\rho = \\sum_i p_i \\ket{\\Psi_i}\\bra{\\Psi_i}$$\n",
    "\n",
    "\n",
    "## Properties of Density Operators\n",
    "\n",
    "Density operators have several important properties:\n",
    "\n",
    "1. It is hermitian: $\\rho^\\dagger = \\rho$\n",
    "2. It is possitive-semidefinite: $\\langle \\Psi | \\rho | \\Psi \\rangle \\geq 0$ for all $\\ket{\\Psi}$ in the Hilbert space\n",
    "3. The trace equals one: $Tr(\\rho) = 1$\n",
    "\n",
    "## Pure and Mixed States\n",
    "\n",
    "A pure state is a quantum state represented by a single ket $\\ket{\\Psi}$, while a mixed state is a statistical mixture of pure states. For a pure state $\\ket{\\Psi}$, the density operator is:\n",
    "\n",
    "$$\\rho = \\ket{\\Psi}\\bra{\\Psi}$$\n",
    "\n",
    "A density operator represents a pure state if and only if $\\rho^2 = \\rho$. For a mixed state, $\\rho^2 \\neq \\rho$.\n",
    "\n",
    "# Measurements\n",
    "\n",
    "We can extract classical information from quantum states using measurements. Measurements are described by a set of projection operators {$P_m$}, which are Hermitian and satisfy the completeness relation:\n",
    "\n",
    "$$\\sum_m P_m = I$$\n",
    "\n",
    "From all we have defined, we can calculate the probability of obtaining a result $m$ from a measurement:\n",
    "\n",
    "$$p(m) = \\langle \\Psi | P_m | \\Psi \\rangle$$\n",
    "\n",
    "This is what we call the expectation value of the projection operator $P_m$, and it is highly related to the density operator. In fact, the density operator can be expressed as:\n",
    "\n",
    "\\begin{gather*}\n",
    "\\langle A \\rangle = \\sum_i p_i \\bra{\\Psi_i} A \\ket{\\Psi_i} = \\sum_i p_i \\bra{\\Psi_i} \\sum_j a_j \\ket{a_j}\\bra{a_j} \\ket{\\Psi_i} \\\\= \\sum_{i,j} p_i a_j \\braket{\\Psi_i}{a_j}\\braket{a_j}{\\Psi_i} = \\sum_{i,j} p_i a_j \\braket{\\Psi_i}{a_j}\\braket{\\Psi_i}{a_j}^*\\\\ = \\sum_{i,j} p_i a_j \\braket{\\Psi_i}{a_j}\\braket{a_j}{\\Psi_i}^* = \\sum_{i,j} p_i a_j \\braket{\\Psi_i}{a_j}\\braket{\\Psi_i}{a_j} = \\sum_{i,j} p_i a_j \\braket{\\Psi_i}{a_j}^2 = \\sum_{i,j} p_i a_j \\delta_{ij} = \\sum_i p_i a_i \\\\\n",
    "\\langle A \\rangle = Tr(\\rho A)\n",
    "\\end{gather*}\n",
    "\n"
   ]
  },
  {
   "attachments": {},
   "cell_type": "markdown",
   "metadata": {},
   "source": [
    "Therefore, if we consider an observable $A$ with eigenvalues {$a_i$} and eigenvectors {$\\ket{a_i}$}, the expectation value of $A$ is given by:\n",
    "\n",
    "\\begin{gather*}\n",
    "\\langle A \\rangle = \\sum_i p_i \\bra{\\Psi_i} A \\ket{\\Psi_i} = \\sum_i p_i \\bra{\\Psi_i} \\sum_j a_j \\ket{a_j}\\bra{a_j} \\ket{\\Psi_i} \\\\= \\sum_{i,j} p_i a_j \\braket{\\Psi_i}{a_j}\\braket{a_j}{\\Psi_i} = \\sum_{i,j} p_i a_j \\braket{\\Psi_i}{a_j}\\braket{\\Psi_i}{a_j}^*\\\\ = \\sum_{i,j} p_i a_j \\braket{\\Psi_i}{a_j}\\braket{a_j}{\\Psi_i}^* = \\sum_{i,j} p_i a_j \\braket{\\Psi_i}{a_j}\\braket{\\Psi_i}{a_j} = \\sum_{i,j} p_i a_j \\braket{\\Psi_i}{a_j}^2 = \\sum_{i,j} p_i a_j \\delta_{ij} = \\sum_i p_i a_i \\\\\n",
    "\\langle A \\rangle = Tr(\\rho A)\n",
    "\\end{gather*}"
   ]
  },
  {
   "cell_type": "markdown",
   "metadata": {},
   "source": []
  }
 ],
 "metadata": {
  "language_info": {
   "name": "python"
  },
  "orig_nbformat": 4
 },
 "nbformat": 4,
 "nbformat_minor": 2
}
