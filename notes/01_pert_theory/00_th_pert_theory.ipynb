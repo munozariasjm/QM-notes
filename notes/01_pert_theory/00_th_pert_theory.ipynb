{
 "cells": [
  {
   "cell_type": "code",
   "execution_count": 2,
   "metadata": {},
   "outputs": [
    {
     "name": "stderr",
     "output_type": "stream",
     "text": [
      "\u001b[32m\u001b[1m  Activating\u001b[22m\u001b[39m new project at `~/Documents/STUDY/Bsc/QM`\n"
     ]
    }
   ],
   "source": [
    "using Pkg\n",
    "Pkg.activate(\"../..\")\n",
    "using Plots"
   ]
  },
  {
   "attachments": {},
   "cell_type": "markdown",
   "metadata": {},
   "source": [
    "# Time independent perturbation theory\n",
    "\n",
    "By: Jose M Munoz"
   ]
  },
  {
   "attachments": {},
   "cell_type": "markdown",
   "metadata": {},
   "source": [
    "## Introduction to Time Independent Perturbation Theory\n",
    "\n",
    "Time Independent Perturbation Theory is a strong technique used in quantum mechanics to determine the energy eigenvalues and eigenstates of a perturbed system. In this theory, we postulate that the unperturbed Hamiltonian and the perturbation can be combined to form the system's Hamiltonian. The perturbation is a tiny alteration to the Hamiltonian that causes the system to depart from its unperturbed state, whereas the unperturbed Hamiltonian is the Hamiltonian of the system in the absence of any perturbation.\n",
    "\n",
    "The goal of Time Independent Perturbation Theory is to determine the energy eigenvalues and eigenstates of the perturbed system in terms of the energy eigenvalues and eigenstates of the unperturbed system. This is done by treating the perturbation as a very small correction to the Hamiltonian and using perturbations to calculate the corrections to the energy eigenvalues and eigenstates, this is... the observables one gets in the laboratory.\n"
   ]
  },
  {
   "cell_type": "code",
   "execution_count": 1,
   "metadata": {},
   "outputs": [],
   "source": []
  },
  {
   "attachments": {},
   "cell_type": "markdown",
   "metadata": {},
   "source": [
    "## The Schrödinger Equation and Perturbation Theory\n",
    "\n",
    "In quantum mechanics, the state of a system is described by a wave function, which satisfies the Schrödinger equation:\n",
    "\n",
    "$$i\\hbar\\frac{\\partial}{\\partial t}\\psi(\\mathbf{r},t) = \\hat{H}\\psi(\\mathbf{r},t)$$\n",
    "\n",
    "where $\\psi$ is the wave function, $\\hat{H}$ is the Hamiltonian of the system, and $\\hbar$ is the reduced Planck constant. The Hamiltonian can be written as a sum of two parts:\n",
    "\n",
    "$$\\hat{H} = \\hat{H}_0 + \\hat{V}$$\n",
    "\n",
    "where $\\hat{H}_0$ is the unperturbed Hamiltonian and $\\hat{V}$ an induced the perturbation. We assume that the wave function can be written as a sum of the unperturbed wave function and a correction due to the perturbation:\n",
    "\n",
    "$$\\psi(\\mathbf{r},t) = \\psi_0(\\mathbf{r}) + \\psi_1(\\mathbf{r},t)$$\n",
    "\n",
    "where $\\psi_0$ is the unperturbed wave function and $\\psi_1$ is the correction due to the perturbation, this is a direct consequence of the fact that the perturbation is time-independent.\n",
    "\n",
    "Substituting this expression into the Schrödinger equation and expanding to first order in $\\hat{V}$, we get:\n",
    "\n",
    "$$i\\hbar\\frac{\\partial}{\\partial t}\\psi_1(\\mathbf{r},t) = (\\hat{H}_0 + \\hat{V})\\psi_1(\\mathbf{r},t) - \\hat{V}\\psi_0(\\mathbf{r})$$\n",
    "\n",
    "Assuming that the perturbation is small, we can neglect terms of higher order in $\\hat{V}$. We can also assume that the unperturbed wave function satisfies the Schrödinger equation for the unperturbed Hamiltonian:\n",
    "\n",
    "$$\\hat{H}_0\\psi_0(\\mathbf{r}) = E_0\\psi_0(\\mathbf{r})$$\n",
    "\n",
    "where $E_0$ is the energy eigenvalue of the unperturbed system. Substituting this into the previous equation and dividing by $\\psi_0(\\mathbf{r})$, we get:\n",
    "\n",
    "$$i\\hbar\\frac{\\partial}{\\partial t}\\frac{\\psi_1(\\mathbf{r},t)}{\\psi_0(\\mathbf{r})} = (E-E_0)\\frac{\\psi_1(\\mathbf{r},t)}{\\psi_0(\\mathbf{r})} - \\hat{V}$$\n",
    "\n",
    "where $E$ is the energy eigenvalue of the perturbed system. We can then solve this equation for $\\psi_1(\\mathbf{r},t)$ using perturbation theory.\n",
    "\n",
    "Another way of seeing this is to write the general eigenvalue equation for the system:\n"
   ]
  },
  {
   "cell_type": "code",
   "execution_count": null,
   "metadata": {},
   "outputs": [],
   "source": []
  },
  {
   "attachments": {},
   "cell_type": "markdown",
   "metadata": {},
   "source": [
    "## First order perturbation theory\n",
    "\n",
    "In first order perturbation theory, we assume that the perturbation is small and we calculate the correction to the energy eigenvalue and eigenstate to first order in the perturbation. Here, we can propose a correction to the energy eigenvalue and eigenstate of the perturbed system in terms of the energy eigenvalue and eigenstate of the unperturbed system. This is:\n",
    "\n",
    "$$\\Delta E^{(1)} = \\langle\\psi_0|\\hat{V}|\\psi_0\\rangle$$\n",
    "\n",
    "where $\\psi_0$ is the unperturbed wave function and $\\hat{V}$ is the perturbation. The correction to the correspondingn eigenstate is given by:\n",
    "\n",
    "$$|\\psi_1^{(1)}\\rangle = \\sum_{n\\neq 0}\\frac{\\langle n|\\hat{V}|\\psi_0\\rangle}{E_0-E_n}|n\\rangle$$\n",
    "\n",
    "where $|n\\rangle$ and $E_n$ are the energy eigenstates and eigenvalues of the unperturbed system.\n",
    "\n",
    "Let's break down these equations. The correction to the energy eigenvalue is simply the expectation value of the perturbation Hamiltonian in the unperturbed state. This makes sense, since adding a small perturbation to the Hamiltonian should cause a small change in the energy of the system.\n",
    "\n",
    "The correction to the eigenstate is a bit more complicated. It involves summing over all of the energy eigenstates of the unperturbed system, except for the ground state ($n\\neq 0$). The summand in the equation involves the matrix element of the perturbation Hamiltonian between the unperturbed state and the energy eigenstates of the unperturbed system. This matrix element is then divided by the energy difference between the ground state and the energy eigenstate. This makes sense, since the energy difference determines the strength of the coupling between the ground state and the energy eigenstate.\n",
    "\n",
    "It's worth noting that the correction to the energy eigenstate involves all of the energy eigenstates of the unperturbed system, except for the ground state. This means that the correction can be quite complicated, especially if there are many energy eigenstates that are close in energy to the ground state."
   ]
  },
  {
   "cell_type": "code",
   "execution_count": null,
   "metadata": {},
   "outputs": [],
   "source": []
  },
  {
   "attachments": {},
   "cell_type": "markdown",
   "metadata": {},
   "source": [
    "## Second Order Perturbation Theory\n",
    "\n",
    "In second order perturbation theory, we assume that the perturbation is still small, but we calculate the correction to the energy eigenvalue and eigenstate to second order in the perturbation. The correction to the energy eigenvalue is given by:\n",
    "\n",
    "$$\\Delta E^{(2)} = \\sum_{n\\neq 0}\\frac{|\\langle n|\\hat{V}|\\psi_0\\rangle|^2}{E_0-E_n}$$\n",
    "\n",
    "where $|n\\rangle$ and $E_n$ are the energy eigenstates and eigenvalues of the unperturbed system.\n",
    "\n",
    "The correction to the eigenstate is given by:\n",
    "\n",
    "$$|\\psi_1^{(2)}\\rangle = \\sum_{n\\neq 0}\\frac{\\langle n|\\hat{V}|\\psi_0\\rangle}{E_0-E_n}\\left(|n\\rangle + \\sum_{m\\neq 0}\\frac{\\langle m|\\hat{V}|\\psi_0\\rangle}{E_0-E_m}\\langle m|n\\rangle\\right)$$\n",
    "\n",
    "where $|n\\rangle$ and $E_n$ are the energy eigenstates and eigenvalues of the unperturbed system.\n",
    "\n",
    "Let's break down these equations. The correction to the energy eigenvalue involves summing over all of the energy eigenstates of the unperturbed system, except for the ground state ($n\\neq 0$). The summand involves the square of the matrix element of the perturbation Hamiltonian between the unperturbed state and the energy eigenstates of the unperturbed system. This means that the correction to the energy eigenvalue is proportional to the strength of the perturbation.\n",
    "\n",
    "The correction to the eigenstate is a bit more complicated. The first term in the equation is the same as the first term in first order perturbation theory. The second term in the equation involves a double sum over all of the energy eigenstates of the unperturbed system, except for the ground state. The summand involves the matrix element of the perturbation Hamiltonian between the unperturbed state and the energy eigenstates of the unperturbed system, as well as the overlap between the energy eigenstates. This term takes into account the fact that the perturbation can cause the ground state to mix with higher energy states, which in turn can mix with even higher energy states, and so on."
   ]
  },
  {
   "cell_type": "code",
   "execution_count": null,
   "metadata": {},
   "outputs": [],
   "source": []
  },
  {
   "attachments": {},
   "cell_type": "markdown",
   "metadata": {},
   "source": [
    "## Summary and Conclusion\n",
    "\n",
    "\n",
    "In this Jupyter notebook, we've covered the basics of Time Independent Perturbation Theory, including how it can be used to calculate the energy eigenvalues and eigenstates of a perturbed quantum mechanical system. We've also gone through an example problem of a perturbed harmonic oscillator and used Time Independent Perturbation Theory to calculate the correction to the energy eigenvalue and eigenstate to second order in the perturbation.\n",
    "\n",
    "Time Independent Perturbation Theory is a powerful tool that can be used to understand the behavior of quantum mechanical systems in the presence of small perturbations. While we've only scratched the surface of this theory in this notebook, I hope it provides a good starting point for further exploration."
   ]
  },
  {
   "cell_type": "markdown",
   "metadata": {},
   "source": []
  }
 ],
 "metadata": {
  "kernelspec": {
   "display_name": "Julia 1.8.0",
   "language": "julia",
   "name": "julia-1.8"
  },
  "language_info": {
   "file_extension": ".jl",
   "mimetype": "application/julia",
   "name": "julia",
   "version": "1.8.0"
  },
  "orig_nbformat": 4
 },
 "nbformat": 4,
 "nbformat_minor": 2
}
