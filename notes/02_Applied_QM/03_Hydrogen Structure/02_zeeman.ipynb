{
 "cells": [
  {
   "attachments": {},
   "cell_type": "markdown",
   "metadata": {},
   "source": [
    "# Zeeman Effect"
   ]
  },
  {
   "attachments": {},
   "cell_type": "markdown",
   "metadata": {},
   "source": [
    "The Zeeman effect is the splitting of energy levels and spectral lines in atomic and molecular spectra when an external magnetic field is applied. It was first observed by Pieter Zeeman in 1896, and it was later explained theoretically by Hendrik Lorentz. The effect is categorized into two types: weak (or normal) Zeeman effect and strong (or anomalous) Zeeman effect. Here, we provide a detailed summary of both effects.\n",
    "\n",
    "## Weak Zeeman Effect\n",
    "\n",
    "The weak Zeeman effect, also known as the normal Zeeman effect, occurs when the magnetic field applied to the atom is weak compared to the internal magnetic field produced by the orbital and spin angular momenta of the electrons. In this case, the total angular momentum of the electron $J$ can be treated as a good quantum number, and the energy levels are split according to the $m_J$ quantum number.\n",
    "\n",
    "The splitting of energy levels in the weak Zeeman effect is given by the formula:\n",
    "\n",
    "\\begin{equation}\n",
    "\\Delta E = g_J \\mu_B B m_J\n",
    "\\end{equation}\n",
    "\n",
    "where $\\Delta E$ is the energy difference between the split levels, $g_J$ is the Landé g-factor, $\\mu_B$ is the Bohr magneton, $B$ is the external magnetic field, and $m_J$ is the magnetic quantum number.\n",
    "\n",
    "The Landé g-factor can be calculated using the formula:\n",
    "\n",
    "\\begin{equation}\n",
    "g_J = 1 + \\frac{j(j+1) + s(s+1) - l(l+1)}{2j(j+1)}\n",
    "\\end{equation}\n",
    "\n",
    "where $j$ is the total angular momentum quantum number, $s$ is the spin quantum number, and $l$ is the orbital quantum number.\n",
    "\n",
    "## Strong Zeeman Effect\n",
    "\n",
    "The strong Zeeman effect, also known as the anomalous Zeeman effect, occurs when the external magnetic field applied to the atom is strong enough to break the coupling between the orbital and spin angular momenta of the electrons. In this case, $J$ is no longer a good quantum number, and instead, the orbital angular momentum $L$ and spin angular momentum $S$ are treated as good quantum numbers. As a result, the energy levels are split according to the $m_L$ and $m_S$ quantum numbers.\n",
    "\n",
    "The splitting of energy levels in the strong Zeeman effect is given by the formula:\n",
    "\n",
    "\\begin{equation}\n",
    "\\Delta E = (\\textit{g}_L \\mu_B B m_L) + (\\textit{g}_S \\mu_B B m_S)\n",
    "\\end{equation}\n",
    "\n",
    "where $\\Delta E$ is the energy difference between the split levels, $g_L$ and $g_S$ are the orbital and spin g-factors respectively, $\\mu_B$ is the Bohr magneton, $B$ is the external magnetic field, and $m_L$ and $m_S$ are the magnetic quantum numbers for the orbital and spin angular momenta respectively.\n",
    "\n",
    "The orbital and spin g-factors have constant values: $g_L = 1$ and $g_S \\approx 2$.\n",
    "\n",
    "## Conclusion\n",
    "\n",
    "In summary, the Zeeman effect describes the splitting of atomic and molecular energy levels and spectral lines under the influence of an external magnetic field. The weak Zeeman effect occurs when the external magnetic field is weak compared to the internal magnetic field produced by the orbital and spin angular momenta of the electrons, and the energy levels are split according to the $m_J$ quantum number. The strong Zeeman effect occurs when the external magnetic field is strong enough to break the coupling between the orbital and spin angular momenta of the electrons, and the energy levels"
   ]
  }
 ],
 "metadata": {
  "language_info": {
   "name": "python"
  },
  "orig_nbformat": 4
 },
 "nbformat": 4,
 "nbformat_minor": 2
}
