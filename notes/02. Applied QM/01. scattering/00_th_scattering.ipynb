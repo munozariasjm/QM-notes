{
 "cells": [
  {
   "attachments": {},
   "cell_type": "markdown",
   "metadata": {},
   "source": [
    "# Sacttering Theory"
   ]
  },
  {
   "attachments": {},
   "cell_type": "markdown",
   "metadata": {},
   "source": [
    "Well see what happens when we scatter a particle gets scattered by a potential, which can be tackled via a combination of the Schrodinger equation and some approximation techniques.\n",
    "\n"
   ]
  },
  {
   "attachments": {},
   "cell_type": "markdown",
   "metadata": {},
   "source": [
    "## The Schrodinger Equation for Scattering\n",
    "\n",
    "We are interested in the scattering of a particle of mass $m$ by a potential $V(x)$, which is a function of position $x$. The Schrodinger equation for this system is\n",
    "\n",
    "$$H = \\frac{p^2}{2\\mu} + V(x)$$\n",
    "\n",
    "where $\\mu$ is the reduced mass. Since we are dealing with a free particle, the potential is the only thing that matters, and moreover, the function can be decomposed into a time-independent part and a time-dependent part:\n",
    "\n",
    "$$\\Psi(r, t) = e^{-iEt/\\hbar} \\psi(r)$$\n",
    "\n",
    "where $r$ is the position of the particle, $t$ is the time, $E$ is the energy of the particle, and $\\psi(r)$ is the wavefunction of the particle. The Schrodinger equation for this system is\n",
    "\n",
    "$$\\left[-\\frac{\\hbar^2}{2\\mu}\\nabla^2 + V(r)\\right]\\psi(r) = E\\psi(r)$$\n",
    "\n",
    "For the initial state, we can take the free state $E = \\frac{\\hbar^2 k^2}{2\\mu}$, where $k$ is the wavevector of the particle. \n",
    "\n",
    "Notably the Schrodinger equation is linear, so we can write the solution as a linear combination of the solutions to the free particle and the potential:\n",
    "\n",
    "$$\\psi_{\\text{in}}(r) = e^{ikz} \\ \\ \\ \\ \\ \\ \\psi_{\\text{out}}(r) = \\frac{f(\\theta, \\phi) e^{ik_or}}{r}$$\n",
    "\n",
    "where $k_o$ is the wavevector of the outgoing particle, $\\theta$ is the polar angle, and $\\phi$ is the azimuthal angle. The function $f(\\theta, \\phi)$ is the scattering amplitude, which is a function of the angles of the outgoing particle. Therefore by the end we will have a superposition of the free particle and the potential: \n",
    "\n",
    "$$\\psi(r) = \\psi_s(r) + \\frac{f(\\theta, \\phi) e^{ik_or}}{r}$$\n",
    "\n",
    "where $\\psi_s(r)$ is the solution to the Schrodinger equation for the potential.\n",
    "\n",
    "And this, the angular dependence allows us to determine the scattering amplitude and the cross section with \n",
    "\n",
    "$$\\frac{d\\sigma}{d\\Omega} = \\frac{4\\pi}{k_o^2} |f(\\theta, \\phi)|^2$$\n",
    "\n",
    "where $k_o$ is the wavevector of the outgoing particle, $\\theta$ is the polar angle, and $\\phi$ is the azimuthal angle. The function $f(\\theta, \\phi)$ is the scattering amplitude, which is a function of the angles of the outgoing particle. Therefore by the end we will have a superposition of the free particle and the potential:\n",
    "\n",
    "$$d\\sigma = |f(\\theta, \\psi)|^2 d\\Omega \\ \\ \\ \\ \\Rightarrow \\ \\ \\ \\ \\ \\ \\sigma = \\int_{4\\pi} |f(\\theta, \\psi)|^2 d\\Omega$$\n",
    "\n",
    "where $\\sigma$ is the cross section, $\\theta$ is the polar angle, and $\\phi$ is the azimuthal angle. So all the focus is on computing the scattering amplitude $f(\\theta, \\phi)$. For this, we are searching the Green's function for the potential, which is\n",
    "\n",
    "$$(\\nabla^2 + k_o^2) G(r) = \\delta(r) \\ \\ \\ \\ \\Rightarrow \\ \\ \\ \\ \\psi(r) = \\psi_0 + \\int d^3r' G(r, r') U(r')\\psi_0(r')$$\n",
    "\n",
    "where $\\psi_0(r)$ is the initial state of the particle, and $G(r, r')$ is the Green's function for the potential. The Green's function for the potential is\n",
    "\n",
    "$$G(r, r') = \\frac{1}{4\\pi} \\frac{e^{ik_o|r-r'|}}{|r-r'|}$$\n",
    "\n",
    "The solution to including this equation in the Schrodinger equation is to use a recursive solution, which can be tackled via a very simple approximation:\n",
    "\n",
    "## Born Approximation\n",
    "\n",
    "The basic idea is to prompt ($r\\mapsto r'$), with this, we obatin a recursive solution for the Green's function:\n",
    "\n",
    "$$\\nu_k = e^{ik_o|r-r'|} + \\int d^3r'' G(r', r'') U(r'')\\nu_k(r'') + \\int d^3r'' G(r', r'') U(r'')\\nu_k(r'')$$\n",
    "\n",
    "where $\\nu_k(r)$ is the Green's function for the potential. If the potential is considerably small and the particle is far away from the potential, then the Green's function can be approximated as:\n",
    "\n",
    "$$f(\\theta, \\phi) = \\frac{1}{4\\pi} \\int dr^3 e^{-i (\\Delta k)} U(r`)$$\n",
    "\n",
    "Here we will call $\\Delta k \\equiv K$. So that is it, we now have a very nice way of computing the cross section:\n",
    "\n",
    "$$d\\sigma_K = \\frac{\\mu^2}{4\\pi^2\\hbar^4}\\Bigg | \\int d^3r` e^{iKr} V(r) \\Bigg |^2$$\n",
    "\n"
   ]
  },
  {
   "attachments": {},
   "cell_type": "markdown",
   "metadata": {},
   "source": [
    "## Method of Partial Waves\n",
    "\n",
    "We haven`t made much use of the common hypothesis abour $V(r)$ (i.e. being a central potential). That would in principle mean that the total angular momentum $\\vec L$ of the system is conserved. This is a very important property, and it allows us to use the method of partial waves. \n",
    "\n",
    "From the free particle with spherical coordinates, we have\n",
    "\n",
    "$$\\psi(r) = \\frac{u_{El}(r)}{r} Y_{lm}(\\theta, \\phi)$$\n",
    "\n",
    "where $Y_{lm}(\\theta, \\phi)$ is the spherical harmonics and $u_{El}(r)$ is the radial part of the wavefunction which also satisfies the radial Schrodinger equation:\n",
    "\n",
    "$$\\left[-\\frac{\\hbar^2}{2\\mu}\\frac{d^2}{dr^2} + \\frac{l(l+1)}{2\\mu r^2} + \\overbrace{V(r)}^{0}\\right]u_{El}(r) = E u_{El}(r)$$\n",
    "\n",
    "where $l$ is the angular momentum quantum number. We also define a $\\rho \\equiv kr$... With this, one obatains for large values of $r$ that\n",
    "\n",
    "$$\\psi(r) \\sim e^{ikz} + f(\\theta)\\frac{e^{ikr}}{r}$$\n",
    "\n",
    "where $f(\\theta)$ is the scattering amplitude. We can achieve a computable form of $f_k(\\theta)$ by by introducing the phase shift $\\delta_l$:\n",
    "\n",
    "$$f_k(\\theta) = e^{i\\delta_l} \\frac{e^{ikr}}{r}$$\n",
    "\n",
    "where $\\delta_l$ is the phase shift. The phase shift is defined as the difference between the incoming and outgoing wavevector:\n",
    "\n",
    "$$f(\\theta) = \\frac{\\sqrt{4\\pi}}{k^2} \\sum_{l=0}^{\\infty} \\sqrt{2l+1} e^{i\\delta_l} Y_{lm}(\\theta, \\phi) sin(\\delta_l)$$\n",
    "\n",
    "The new task is simply to remove the $$Y_{lm}(\\theta, \\phi)$$:\n",
    "\n",
    "$$\\sigma = \\int |f(\\theta, \\phi)|^2 d\\Omega = \\frac{4\\pi}{k^2} \\sum_{l=0}^{\\infty} (2l+1\n",
    " ) sin^2(\\delta_l).$$"
   ]
  }
 ],
 "metadata": {
  "language_info": {
   "name": "python"
  },
  "orig_nbformat": 4
 },
 "nbformat": 4,
 "nbformat_minor": 2
}
