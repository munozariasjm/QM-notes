{
 "cells": [
  {
   "cell_type": "markdown",
   "metadata": {},
   "source": [
    "# Central potential"
   ]
  },
  {
   "cell_type": "markdown",
   "metadata": {},
   "source": [
    "Armed with the overall theory in this chapter, we can now tackle the problem of having a 3D scenario, but restricted to a spherical potential. This is the case of a central potential, where the potential energy depends only on the distance from the origin, $r$. In this case, the angular momentum is conserved, and the motion is restricted to a plane. We can then use the results from the previous section, and just add the radial component.\n",
    "\n",
    "## Stationary states\n",
    "\n",
    "For this, we will have to use the radial Schrödinger equation, which is obtained with the laplacian in spherical coordinates:\n",
    "\n",
    "$$\\nabla^2 = \\frac{1}{r^2}\\frac{\\partial}{\\partial r} \\left(r^2 \\frac{\\partial}{\\partial r}\\right) + \\frac{1}{r^2 \\sin \\theta} \\frac{\\partial}{\\partial \\theta} \\left(\\sin \\theta \\frac{\\partial}{\\partial \\theta}\\right) + \\frac{1}{r^2 \\sin^2 \\theta} \\frac{\\partial^2}{\\partial \\phi^2}$$\n",
    "\n",
    "Furtunately, both angular derivatives blow up because of the symmetry, to leave:\n",
    "\n",
    "$$\\nabla^2 = \\frac{1}{r^2}\\frac{\\partial}{\\partial r} \\left(r^2 \\frac{\\partial}{\\partial r}\\right) - \\frac{L^2}{\\hbar ^2 r^2}$$\n",
    "\n",
    "where $L$ is the angular momentum. The radial Schrödinger equation is then:\n",
    "\n",
    "$$-\\frac{\\hbar^2}{2m} \\Big[\\frac{1}{r^2}\\frac{\\partial}{\\partial r} \\left(r^2 \\frac{\\partial}{\\partial r}\\right) - \\frac{L^2}{\\hbar ^2 r^2}\\Big] u(r) + V(r) u(r) = E u(r)$$\n",
    "\n",
    "which can be separated using the spherical harmonics:\n",
    "\n",
    "$$u = R(r) Y(\\theta, \\phi)$$\n",
    "\n",
    "where $Y(\\theta, \\phi)$ is the spherical harmonic:\n",
    "\n",
    "$$Y_{lm}(\\theta, \\phi) = \\sqrt{\\frac{(2l+1)}{4\\pi} \\frac{(l-m)!}{(l+m)!}} P_l^m(\\cos \\theta) e^{im\\phi}$$\n",
    "\n",
    "where $P_l^m$ are the associated Legendre polynomials. Using a little substitution: $\\chi = R \\cdot r$ and a bit of algebra, we can get the radial equation:\n",
    "\n",
    "$$\\frac{d^2 \\chi}{dr^2} + \\frac{2m}{\\hbar^2} \\Big[E - V(r) - \\frac{L^2}{2mr^2}\\Big] \\chi = 0$$\n",
    "\n",
    "As a matter of fact, we see the potental can be regrouped into a \"centrifugal\" term, which is the one that depends on the angular momentum, and the rest, which is the \"effective\" potential. \n",
    "\n",
    "$$V_{eff}(r) = V(r) + \\frac{L^2}{2mr^2}$$\n",
    "\n",
    "Also, we can prompt the mass $m$ as a parameter, and use the reduced mass $\\mu$ instead, which is the mass of the system divided by the mass of the particle. This is useful for example for the hydrogen atom, where the mass of the electron is much smaller than the mass of the proton, making a two-body problem into a one-body problem. The reduced mass is then:\n",
    "\n",
    "$$\\mu = \\frac{m_e m_p}{m_e + m_p}$$"
   ]
  }
 ],
 "metadata": {
  "language_info": {
   "name": "python"
  },
  "orig_nbformat": 4
 },
 "nbformat": 4,
 "nbformat_minor": 2
}
