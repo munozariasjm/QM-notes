{
 "cells": [
  {
   "cell_type": "markdown",
   "metadata": {},
   "source": [
    "# Quantum Harmonic Oscillator\n"
   ]
  },
  {
   "cell_type": "markdown",
   "metadata": {},
   "source": [
    "We will focus in a very simple case, the quantum harmonic oscillator. The potential is given by:\n",
    "\n",
    "$$V(x) = \\frac{1}{2} m \\omega^2 x^2$$\n",
    "\n",
    "Meanining that the Hamiltonian is:\n",
    "\n",
    "$$H = \\frac{p^2}{2m} + \\frac{1}{2} m \\omega^2 x^2$$"
   ]
  }
 ],
 "metadata": {
  "language_info": {
   "name": "python"
  },
  "orig_nbformat": 4
 },
 "nbformat": 4,
 "nbformat_minor": 2
}
