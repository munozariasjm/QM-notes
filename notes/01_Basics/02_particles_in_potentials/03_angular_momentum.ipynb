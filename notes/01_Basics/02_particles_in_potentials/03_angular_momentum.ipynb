{
 "cells": [
  {
   "cell_type": "markdown",
   "metadata": {},
   "source": [
    "# Angular Momentum"
   ]
  },
  {
   "cell_type": "markdown",
   "metadata": {},
   "source": [
    "Let us recall that the traditional angular momentum is fundamental in central problems within three dimensions. It is given by:\n",
    " $$L = r \\times p$$\n",
    "\n",
    "In quantum mechanics, we will prompt it to the operator's form:\n",
    " $$\\hat{L} = \\hat{r} \\times \\hat{p} = -i \\hbar \\cdot \\hat{r} \\times \\nabla$$\n",
    "\n",
    "Each one of the operators works as a vector, so we can write the components of the angular momentum as:\n",
    " $$\\hat{L}_x = -i \\hbar \\left( y \\frac{\\partial}{\\partial z} - z \\frac{\\partial}{\\partial y} \\right)$$\n",
    " $$\\hat{L}_y = -i \\hbar \\left( z \\frac{\\partial}{\\partial x} - x \\frac{\\partial}{\\partial z} \\right)$$\n",
    " $$\\hat{L}_z = -i \\hbar \\left( x \\frac{\\partial}{\\partial y} - y \\frac{\\partial}{\\partial x} \\right)$$\n",
    "\n",
    "The commutation relations between the components of the angular momentum are:\n",
    "\n",
    "$$[\\hat{L}_x, \\hat{L}_y] = i \\hbar \\hat{L}_z$$\n",
    "$$[\\hat{L}_y, \\hat{L}_z] = i \\hbar \\hat{L}_x$$\n",
    "$$[\\hat{L}_z, \\hat{L}_x] = i \\hbar \\hat{L}_y$$\n",
    "\n",
    "To speak a bit more generally we will rename the components as $\\hat J_x$, $\\hat J_y$ and $\\hat J_z$ and we will call them the total angular momentum. The commutation relations are the same as before.\n",
    "\n",
    "## Eigenstates\n",
    "\n",
    "Let us begin by clarifying the set of not commutative operators (CSCO) that we will use to describe the system. We will use the Hamiltonian, the total angular momentum and the angular momentum in the z direction:\n",
    "\n",
    "$$CSCO = \\{ \\hat H, \\hat J^2, \\hat J_z \\}$$\n",
    "\n",
    "As well, we introduce the raising and lowering operators:\n",
    "\n",
    "$$J_{\\pm} = J_x \\pm i J_y$$\n",
    "\n",
    "Which allow us to write:\n",
    "\n",
    "$$J^2 = J_+ J_- + J_z^2 - \\hbar J_z$$\n",
    "\n",
    "Now, to each one of them, we will associate an eigenvalue equation:\n",
    "\n",
    "$$ (J^2, J_z) \\rightarrow (j, m), \\quad -j \\leq m \\leq j$$\n",
    "\n",
    "Where $j$ is the total angular momentum and $m$ is the angular momentum in the z direction, which maps quite well to simple eigenvalue equations. \n",
    "\n",
    "$$ J^2 \\ket{j, m} = j(j+1) \\hbar^2 \\ket{j, m}$$\n",
    "\n",
    "Notable, such a simple relation is not extracted from the $J_\\pm$ raising and lowering operators:\n",
    "\n",
    "$$ J_\\pm \\ket{j, m} =  \\hbar \\sqrt{(j(j+1) - m(m\\pm1))} \\ket{j, m\\pm1}$$\n",
    "\n",
    "### Matrix representation\n",
    "\n",
    "One could also select a geometrical basis for representing the angular momentum. One very common way to do so is to create sandwitched matrices between the eigenstates of the angular momentum, and varying the $m$ quantum number. This is called the spherical basis. For example:\n",
    "\n",
    "$$J^2 = \\hbar^2 \\begin{pmatrix} \\bra{j, m_min}J^2 \\ket{j, m_min} & \\bra{j, m_min}J^2 \\ket{j, m_min+1} & \\cdots & \\bra{j, m_min}J^2 \\ket{j, m_max} \\\\ \\bra{j, m_min+1}J^2 \\ket{j, m_min} & \\bra{j, m_min+1}J^2 \\ket{j, m_min+1} & \\cdots & \\bra{j, m_min+1}J^2 \\ket{j, m_max} \\\\ \\vdots & \\vdots & \\ddots & \\vdots \\\\ \\bra{j, m_max}J^2 \\ket{j, m_min} & \\bra{j, m_max}J^2 \\ket{j, m_min+1} & \\cdots & \\bra{j, m_max}J^2 \\ket{j, m_max} \\end{pmatrix}$$"
   ]
  }
 ],
 "metadata": {
  "language_info": {
   "name": "python"
  },
  "orig_nbformat": 4
 },
 "nbformat": 4,
 "nbformat_minor": 2
}
