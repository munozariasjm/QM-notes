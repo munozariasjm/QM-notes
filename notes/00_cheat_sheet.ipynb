{
 "cells": [
  {
   "cell_type": "markdown",
   "metadata": {},
   "source": [
    "<center>\n",
    "<h1>QM Summary</h1>\n",
    "</center>"
   ]
  },
  {
   "cell_type": "markdown",
   "metadata": {},
   "source": [
    "# **Formalism**\n",
    "The commutator: $$[A,B] = AB - BA$$\n",
    "Hermitean conjugate: $$A^\\dagger = (A^T)^*$$\n",
    "When two functions are orthogonal, their inner product is zero: $$\\langle f | g \\rangle = 0 \\Rightarrow \\int \\psi_m^*\\psi_n dx = \\delta_{mn}$$\n",
    "Boundary conditions for wavefunctions: \n",
    "  - Continuity: $\\psi(x_0) = \\psi(x_0 + \\epsilon)$\n",
    "  - Continuity of the derivative (except for infinite potential wells): $\\psi'(x_0) = \\psi'(x_0 + \\epsilon)$\n",
    "Adjoint operator: Uses that the inner product is a scalar and linear.\n",
    "   $$\\langle \\psi | A | \\phi \\rangle = \\langle \\phi | A^\\dagger | \\psi \\rangle$$\n",
    "Complete basis: A set of functions that can be used to express any other function.\n",
    "    $$\\sum_n | \\psi_n \\rangle \\langle \\psi_n | = \\mathbb{I}$$\n",
    "Position and momentum operators: \n",
    "    $$\\braket{x|p} = \\frac{1}{\\sqrt{2\\pi\\hbar}} e^{ipx/\\hbar}$$\n",
    "Fourier transform of the wavefunction:\n",
    "    $$\\psi(p) = \\frac{1}{\\sqrt{2\\pi\\hbar}} \\int_{-\\infty}^{\\infty} \\psi(x) e^{-ipx/\\hbar} dx$$\n",
    "Gaussian Intergral: $$\\int_{-\\infty}^{\\infty} e^{-ax^2} dx = \\sqrt{\\frac{\\pi}{a}}$$\n",
    "Evolution of observables:\n",
    "    $$\\frac{d}{dt} \\langle A \\rangle = \\frac{1}{i\\hbar} \\langle [H,A] \\rangle + \\langle \\frac{\\partial A}{\\partial t} \\rangle$$\n",
    "Diracs delta: $$\\int_{-\\infty}^{\\infty} e^{ikx} dk = 2\\pi \\delta(k)$$\n",
    "Momentum operator in position space: $$\\hat{p} = -i\\hbar \\frac{\\partial}{\\partial x}$$\n",
    "Position operator in momentum space: $$\\hat{x} = i\\hbar \\frac{\\partial}{\\partial p}$$\n",
    "Heisenberg picture: $$\\frac{d}{dt} \\hat{A}_H = \\frac{1}{i\\hbar} [\\hat{H}, \\hat{A}_H]$$"
   ]
  },
  {
   "cell_type": "markdown",
   "metadata": {},
   "source": [
    "---\n",
    "# **Particles in potentials**"
   ]
  },
  {
   "cell_type": "markdown",
   "metadata": {},
   "source": [
    "**Free Particle**\n",
    "$$V(x) = 0$$\n",
    "$$\\psi(x) = C e^{-i k x}$$\n",
    "$$E = \\frac{\\hbar^2 k^2}{2m}$$\n",
    "\n",
    "\n",
    "**Infinite Square well potential** $V(x) = 0$ for $|x| < a$ and $V(x) = \\infty$ for $|x| > a$:\n",
    "\n",
    "  $$\\psi(x) = \\sqrt{\\frac{2}{a}} \\sin \\left( \\frac{n \\pi x}{a} \\right), \\qquad E_n = \\frac{\\pi^2 \\hbar^2}{2 m a^2}n^2$$\n",
    "\n",
    "**Finite potential well:**\n",
    "\n",
    "$$\\psi(x) = \\begin{cases} A e^{ikx} + B e^{-ikx} & x < -a \\\\ C e^{ikx} + D e^{-ikx} & -a < x < a \\\\ F e^{ikx} & x > a \\end{cases}$$\n",
    "\n",
    "**The harmonic oscillator**\n",
    "\n",
    "$$V(x) = \\frac{1}{2} m \\omega^2 x^2 \\Rightarrow H = \\frac{p^2}{2m} + \\frac{1}{2} m \\omega^2 x^2$$\n",
    "\n",
    "$$\\psi_0(x) = \\left( \\frac{m \\omega}{\\pi \\hbar} \\right)^{1/4} e^{-\\frac{m \\omega}{2 \\hbar} x^2}$$\n",
    "\n",
    "$$E_n = \\left( n + \\frac{1}{2} \\right) \\hbar \\omega, \\Rightarrow \\hat H = \\hbar \\omega \\left( a^\\dagger a + \\frac{1}{2} \\right)$$\n",
    "  \n",
    "$$N = a^\\dagger a$$\n",
    " \n",
    " $$a^\\dagger = \\frac{1}{\\sqrt{2}} \\left( \\frac{\\hat{x}}{\\sqrt{\\hbar m \\omega}} - i \\frac{\\hat{p}}{\\sqrt{\\hbar m \\omega}} \\right), \\quad a = \\frac{1}{\\sqrt{2}} \\left( \\frac{\\hat{x}}{\\sqrt{\\hbar m \\omega}} + i \\frac{\\hat{p}}{\\sqrt{\\hbar m \\omega}} \\right)$$\n",
    "\n",
    " $$\\hat x = \\sqrt{\\frac{\\hbar}{2 m \\omega}} (a + a^\\dagger), \\quad \\hat p = i \\sqrt{\\frac{\\hbar m \\omega}{2}} (a^\\dagger - a)$$\n",
    "\n",
    "$$[a, a^\\dagger] = 1, \\quad [\\hat{x}, \\hat{p}] = i \\hbar$$\n",
    "$$\\ket{n} = \\frac{1}{\\sqrt{n!}} (a^\\dagger)^n \\ket{0}$$\n",
    "\n",
    "  $$a \\ket{n} = \\sqrt{n} \\ket{n-1} \\quad a^\\dagger \\ket{n} = \\sqrt{n+1} \\ket{n+1}$$\n",
    "\n",
    "$$\\ket{0} = \\left(\\frac{\\alpha}{\\pi}\\right)^{1/4} e^{-\\alpha^2/2}$$\n",
    "\n",
    "Translation operator: $$T(a) = e^{-i a \\hat{p} / \\hbar}$$\n",
    "\n",
    "**Coherent states**:\n",
    "\n",
    "$$\\ket{\\alpha} = e^{-\\frac{|\\alpha|^2}{2}} \\sum_{n=0}^\\infty \\frac{\\alpha^n}{\\sqrt{n!}} \\ket{n} \\quad \\Rightarrow a \\ket{\\alpha} = \\alpha \\ket{\\alpha}$$\n",
    "\n",
    "\n",
    "**Angular momentum basics**\n",
    "\n",
    "CSCO: $$\\{J^2, J_z\\}$$\n",
    "Commutation relations: $$[J_i, J_j] = i \\hbar \\epsilon_{ijk} J_k$$\n",
    "Eigenvalues: $$J^2 \\ket{j,m} = \\hbar^2 j(j+1) \\ket{j,m}$$ $$J_z \\ket{j,m} = \\hbar m \\ket{j,m}$$\n",
    "Anihillation: $$J_{\\pm} \\ket{j,m} = \\hbar \\sqrt{j(j+1) - m(m \\pm 1)} \\ket{j,m \\pm 1}$$\n",
    "Total momentum:\n",
    "    $$J^2 = J_+ J_- + J_z^2 - \\hbar J_z$$\n",
    "Raising and lowering operators:\n",
    "    $$J_+ = J_x + i J_y,\\quad J_- = J_x - i J_y$$\n",
    "    $$J_x = \\frac{1}{2} (J_+ + J_-),\\quad J_y = \\frac{1}{2i} (J_+ - J_-)$$"
   ]
  },
  {
   "cell_type": "markdown",
   "metadata": {},
   "source": [
    "**Central problems**\n",
    "\n",
    "$$\\nabla^2 = \\frac{1}{r^2} \\frac{\\partial}{\\partial r} \\left( r^2 \\frac{\\partial}{\\partial r} \\right) + \\frac{1}{r^2 \\sin \\theta} \\frac{\\partial}{\\partial \\theta} \\left( \\sin \\theta \\frac{\\partial}{\\partial \\theta} \\right) + \\frac{1}{r^2 \\sin^2 \\theta} \\frac{\\partial^2}{\\partial \\phi^2}$$\n",
    "$$\\Bigg [-\\frac{\\hbar^2}{2mr^2} \\frac{\\partial}{\\partial r} \\left( r^2 \\frac{\\partial}{\\partial r} \\right) +\\underbrace{\\frac{L^2}{2mr^2} + V(r)}_{\\text{Effective potential}}\\Bigg ] \\psi = E\\psi$$"
   ]
  },
  {
   "cell_type": "markdown",
   "metadata": {},
   "source": [
    "### The hydrogen atom\n",
    "\n",
    "$$V(r) = - \\frac{e^2}{4 \\pi \\epsilon_0 r}$$\n",
    "$$E_n = - \\frac{e^2}{2a_0} \\frac{1}{n^2} \\approx -13.6 \\frac{1}{n^2} \\text{eV}$$\n",
    "Transition rules: $$\\Delta l = \\pm 1, \\Delta m = 0, \\pm 1$$\n",
    "$$\\psi_{100} = \\frac{1}{\\sqrt{\\pi a_0^3}} e^{-r/a_0}$$\n",
    "\n",
    "*Fine structure*\n",
    "\n",
    "Spin orbit coupling: $$\\quad H_{SO} = \\frac{e}{4 \\pi \\epsilon_0 m_e^2 c^3} \\frac{1}{r^3} \\vec{L} \\cdot \\vec{S}$$\n",
    "Relativistic correction: $$\\quad H_{rel} = - \\frac{p^4}{8 m_e^3 c^2}$$\n",
    "Utils:\n",
    "  \n",
    "  $$\\braket{r^{-3}} = \\frac{1}{l(l+1/2)(l+1)n^3a^3}$$\n",
    "  $$\\braket{r^{-1}} = \\frac{1}{n^2a}$$\n",
    "  $$\\braket{r^{-2}} = \\frac{1}{l(l+1)n^2a^2}$$\n",
    "  $$B = \\frac{\\mu_0 I}{2 \\pi r} = \\frac{\\mu_0 e}{4 \\pi r^3}$$\n",
    "  $$\\braket{\\psi | p^4 | \\psi} = \\braket{p^2\\psi|p^2 \\psi}, \\text{ From Schrödinger equation} \\quad -\\frac{1}{2m} p^2 \\psi = (E - V) \\psi$$\n"
   ]
  },
  {
   "cell_type": "markdown",
   "metadata": {},
   "source": [
    "---\n",
    "\n",
    "# Applied QM\n"
   ]
  },
  {
   "cell_type": "markdown",
   "metadata": {},
   "source": [
    "**Spin** (For a spin $1/2$ particles)\n",
    "\n",
    "Stern-Gerlach: $$H = -\\vec{\\mu} \\cdot \\vec{B} \\Rightarrow \\vec{\\mu} = \\gamma \\vec{S}$$\n",
    "Pauli Matrices:\n",
    "  $$\\sigma_x = \\begin{pmatrix} 0 & 1 \\\\ 1 & 0 \\end{pmatrix}$$\n",
    "  $$\\sigma_y = \\begin{pmatrix} 0 & -i \\\\ i & 0 \\end{pmatrix}$$\n",
    "  $$\\sigma_z = \\begin{pmatrix} 1 & 0 \\\\ 0 & -1 \\end{pmatrix}$$\n",
    "Relation between matrices:\n",
    "    $$\\sigma_j \\sigma_k = \\delta_{jk} \\mathbb{1} + i \\epsilon_{jkl} \\sigma_l$$\n",
    "Rotations:\n",
    "  $$R_u(\\alpha) = \\cos(\\alpha/2) \\mathbb{1} - i \\sin(\\alpha/2) \\vec{u} \\cdot \\vec{\\sigma}$$\n",
    "  $$e^{ia\\sigma_j} = \\cos(a) \\mathbb{1} + i \\sin(a) \\sigma_j$$\n",
    "\n",
    "Addition of Angular Momentum\n",
    "\n",
    "$$J^2 = J_1^2 + J_2^2 + 2 J_{1z} J_{2z} + J_+ J_- + J_- J_+$$\n",
    "$$J_1 \\cdot J_2 = \\frac{1}{2} (J^2 - J_1^2 - J_2^2)$$\n",
    "CSCO: $$\\{H, J^2, J_1^2, J_2^2, J_z\\}$$\n",
    "$J_z = J_{1z} + J_{2z}$\n",
    "$m_{min} = \\|m_1 - m_2\\|, \\quad m_{max} = m_1 + m_2$\n",
    "\n",
    "\n",
    "### Spin orbit coupling\n",
    "\n",
    "$$\\Delta H =  -\\vec\\mu \\vec{B} $$"
   ]
  },
  {
   "cell_type": "markdown",
   "metadata": {},
   "source": [
    "---\n",
    "\n",
    "# Approximate methods"
   ]
  },
  {
   "cell_type": "markdown",
   "metadata": {},
   "source": [
    "\n",
    "\n",
    "### Variational principle\n",
    "\n",
    "Steps:\n",
    "\n",
    "1. Choose a trial function (for example, a Gaussian), which are functions of some parameters $\\alpha$.\n",
    "\n",
    "2. Calculate the expectation value of the energy $E[\\alpha] = \\frac{\\int \\psi^* H \\psi d\\tau}{\\int \\psi^* \\psi d\\tau}$.\n",
    "3. Minimize the energy with respect to the parameters $\\alpha$: $\\frac{dE}{d\\alpha} = 0$.\n",
    "4. Compute the final wave function $\\psi[\\alpha]$.\n",
    "\n",
    "## Time independent perturbation theory\n",
    "\n",
    "### Non degenerated \n",
    "\n",
    "* $$E_n = E_n^{(0)} + \\lambda E_n^{(1)} +\\lambda^2 E_n^{(2)} + \\cdots$$\n",
    "* $$\\psi_n = \\psi_n^{(0)} + \\lambda \\psi_n^{(1)} +\\lambda^2 \\psi_n^{(2)} + \\cdots$$\n",
    "* $$E_n^{(1)} = \\langle \\psi_n^{(0)} | \\delta H | \\psi_n^{(0)} \\rangle, \\qquad E_n^{(2)} = \\sum_{k\\neq n}\\frac{|\\langle \\psi_k^{(0)} | \\delta H | \\psi_n^{(0)} \\rangle|^2}{E_n^{(0)} - E_k^{(0)}}$$\n",
    "* $$\\psi_n^{(1)} = \\sum_{k\\neq n}\\frac{\\langle \\psi_k^{(0)} | \\delta H | \\psi_n^{(0)} \\rangle}{E_n^{(0)} - E_k^{(0)}} \\psi_k^{(0)}$$\n",
    "\n",
    "### Degenerated\n",
    "\n",
    "Steps:\n",
    "1. Build the matrix representation of the Hamiltonian and identify the reducible representation of the degenerated subspace. (This is what to use the degenerate perturbation theory for).\n",
    "2. Solve the eigenvalue problem for the degenerated subspace. (eigenvalues and eigenvectors).\n",
    "3. Each one of the eigenvalues has to be corrected by the perturbation term. (This is the degenerate perturbation theory).\n",
    "\n",
    "## Time dependent perturbation theory\n",
    "\n",
    "* $$\\omega = \\frac{E_f - E_i}{\\hbar}$$\n",
    "* Transition amplitude: $$\\mathcal{M}_{f\\leftarrow i}(t) = \\frac{1}{i\\hbar} \\int_{0}^{T} \\langle f | \\hat{V}(t') | i \\rangle e^{i\\omega t'} dt'$$  \n",
    "* Transition probability: $$P_{f\\leftarrow i} = |\\mathcal{M}_{f\\leftarrow i}|^2$$\n",
    "  ...\n",
    "\n"
   ]
  },
  {
   "cell_type": "markdown",
   "metadata": {},
   "source": [
    "---\n",
    "# Scattering\n",
    "\n",
    "## Central potential"
   ]
  },
  {
   "cell_type": "markdown",
   "metadata": {},
   "source": [
    "* $$\\sigma_{\\text{Total}} = \\int_0^{\\pi} \\int_0^{2\\pi} \\sigma(\\theta, \\phi) \\sin(\\theta) d\\theta d\\phi$$\n",
    "  \n",
    "### Born Approximation (**WEAK POTENTIALS**)\n",
    "\n",
    "* $$q = \\vec{k}_f - \\vec{k}_i = 2 k \\sin(\\theta/2)$$\n",
    "* $$f = \\frac{-\\mu}{2\\pi\\hbar^2} \\int_0^{\\infty} V(r) e^{iqr} r^2 dv$$\n",
    "* $$\\sigma(\\theta) = |f|^2$$\n",
    "* Spherical potentials: $$f = \\frac{-2\\mu}{\\hbar^2} \\int_0^{\\infty} r V \\sin(qr) dr$$\n",
    "\n",
    "### Partial Wave Analysis (**SPHERICALLY SYMMETRIC POTENTIALS**)\n",
    "\n",
    "* $$f(\\theta) = \\frac{1}{k} \\sum_{l=0}^{\\infty} (2l+1) e^{i\\delta_l} \\sin(\\delta_l) P_l(\\cos(\\theta))$$\n",
    "* $$\\sigma(\\theta) = |f(\\theta)|^2 = \\frac{1}{k^2} \\sum_{l=0}^{\\infty} (2l+1) \\sin^2(\\delta_l)$$"
   ]
  }
 ],
 "metadata": {
  "kernelspec": {
   "display_name": "Julia 1.8.0",
   "language": "julia",
   "name": "julia-1.8"
  },
  "language_info": {
   "file_extension": ".jl",
   "mimetype": "application/julia",
   "name": "julia",
   "version": "1.8.0"
  },
  "orig_nbformat": 4
 },
 "nbformat": 4,
 "nbformat_minor": 2
}
