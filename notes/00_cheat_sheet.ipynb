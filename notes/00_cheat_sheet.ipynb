{
 "cells": [
  {
   "cell_type": "markdown",
   "metadata": {},
   "source": [
    "# Mega Summary"
   ]
  },
  {
   "cell_type": "markdown",
   "metadata": {},
   "source": [
    "## Formalism of quantum mechanics"
   ]
  },
  {
   "cell_type": "markdown",
   "metadata": {},
   "source": [
    "* The commutator: $$[A,B] = AB - BA$$\n",
    "* Hermitean conjugate: $$A^\\dagger = (A^T)^*$$\n",
    "* When two functions are orthogonal, their inner product is zero: $$\\langle f | g \\rangle = 0 \\Rightarrow \\int \\psi_m^* \\psi_n dx = \\delta_{mn}$$\n",
    "* Boundary conditions for wavefunctions: \n",
    "  - Continuity: $\\psi(x_0) = \\psi(x_0 + \\epsilon)$\n",
    "  - Continuity of the derivative (except for infinite potential wells): $\\psi'(x_0) = \\psi'(x_0 + \\epsilon)$\n",
    "* Adjoint operator: Uses that the inner product is a scalar and linear.\n",
    "   $$\\langle \\psi | A | \\phi \\rangle = \\langle \\phi | A^\\dagger | \\psi \\rangle$$\n",
    "* Complete basis: A set of functions that can be used to express any other function.\n",
    "    $$\\sum_n | \\psi_n \\rangle \\langle \\psi_n | = \\mathbb{I}$$\n",
    "* Position and momentum operators: \n",
    "    $$\\braket{x|p} = \\frac{1}{\\sqrt{2\\pi\\hbar}} e^{ipx/\\hbar}$$\n",
    "* Fourier transform of the wavefunction:\n",
    "    $$\\psi(p) = \\frac{1}{\\sqrt{2\\pi\\hbar}} \\int_{-\\infty}^{\\infty} \\psi(x) e^{-ipx/\\hbar} dx$$\n",
    "* Gaussian Intergral: $$\\int_{-\\infty}^{\\infty} e^{-ax^2} dx = \\sqrt{\\frac{\\pi}{a}}$$\n",
    "* Evolution of observables:\n",
    "    $$\\frac{d}{dt} \\langle A \\rangle = \\frac{1}{i\\hbar} \\langle [H,A] \\rangle + \\langle \\frac{\\partial A}{\\partial t} \\rangle$$\n",
    "* Diracs delta: $$\\int_{-\\infty}^{\\infty} e^{ikx} dx = 2\\pi \\delta(k)$$"
   ]
  },
  {
   "cell_type": "code",
   "execution_count": null,
   "metadata": {},
   "outputs": [],
   "source": []
  }
 ],
 "metadata": {
  "language_info": {
   "name": "python"
  },
  "orig_nbformat": 4
 },
 "nbformat": 4,
 "nbformat_minor": 2
}
