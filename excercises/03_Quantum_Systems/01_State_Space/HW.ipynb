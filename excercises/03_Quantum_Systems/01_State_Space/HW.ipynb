{
 "cells": [
  {
   "attachments": {},
   "cell_type": "markdown",
   "metadata": {},
   "source": [
    "### Spectral Decomposition"
   ]
  },
  {
   "attachments": {},
   "cell_type": "markdown",
   "metadata": {},
   "source": [
    "### 1. \n",
    "Show that if two Hermitian operators commute they have a set of common eigenstates"
   ]
  },
  {
   "attachments": {},
   "cell_type": "markdown",
   "metadata": {},
   "source": [
    "Let's consider two Hermitian operators, $A$ and $B$, that commute, i.e., $[A,B]=AB-BA=0$.\n",
    "\n",
    "The spectral decomposition theorem states that any Hermitian operator can be expressed as a sum of projectors onto its eigenvectors, multiplied by the corresponding eigenvalues:\n",
    "\n",
    "$$A = \\sum_i \\alpha_i | \\a_i \\rangle \\langle \\a_i |,$$\n",
    "\n",
    "Similarly, we can write the spectral decomposition of $B$ as:\n",
    "\n",
    "$$B = \\sum_j \\beta_j | \\b_j \\rangle \\langle \\b_j |,$$\n",
    "\n",
    "Now, since $A$ and $B$ commute, we have: $AB = BA.$\n",
    "Substituting the spectral decompositions of $A$ and $B$ into this equation, we get:\n",
    "\n",
    "$$\n",
    "(\\sum_i \\alpha_i \\ket{a_i} \\bra{a_i})(\\sum _j \\beta_j \\ket{b_j}\\bra{b_j}) = \n",
    "(\\sum _j \\beta_j \\ket{b_j}\\bra{b_j})(\\sum_i \\alpha_i \\ket{a_i} \\bra{a_i})\n",
    "$$"
   ]
  },
  {
   "cell_type": "markdown",
   "metadata": {},
   "source": []
  }
 ],
 "metadata": {
  "language_info": {
   "name": "python"
  },
  "orig_nbformat": 4
 },
 "nbformat": 4,
 "nbformat_minor": 2
}
